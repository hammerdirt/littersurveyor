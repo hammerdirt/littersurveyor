{
 "cells": [
  {
   "cell_type": "markdown",
   "metadata": {},
   "source": [
    "## Getting data and basic functions\n",
    "\n",
    "**This workbook assumes you have a recent public version of ananconda, including 'jupyter lab'.** The .yml file for the specific environment is located in this repo, however it is not required to run any of these workbooks if you are using a current version of ananconda with jupyter lab.\n",
    "\n",
    "**Links of interest**\n",
    "\n",
    "Scroll to the section called \"Data Wrangling\" [Chris Albon python basics](https://chrisalbon.com/#python)\n",
    "\n",
    "Pandas help [Quick start](https://pandas.pydata.org/pandas-docs/stable/user_guide/10min.html)\n",
    "\n",
    "\n",
    "**Questions ?** dev@hammerdirt.ch"
   ]
  },
  {
   "cell_type": "code",
   "execution_count": 1,
   "metadata": {},
   "outputs": [
    {
     "name": "stdout",
     "output_type": "stream",
     "text": [
      "That project already exists\n"
     ]
    }
   ],
   "source": [
    "# workflow and sys\n",
    "import os\n",
    "import sys\n",
    "import requests\n",
    "\n",
    "# data handling\n",
    "import pandas as pd\n",
    "import numpy as np\n",
    "import datetime as dt\n",
    "import json\n",
    "\n",
    "\n",
    "# charting\n",
    "import seaborn as sns\n",
    "import matplotlib.pyplot as plt\n",
    "\n",
    "# location variables, date variables\n",
    "here = os.getcwd()\n",
    "today = dt.datetime.today().strftime('%Y-%m-%d')\n",
    "\n",
    "# create a folder for todays out put:\n",
    "project_name = 'basic_functions'\n",
    "todays_project = '{}_{}'.format(today, project_name)\n",
    "project_directory = '{}/{}'.format(here, todays_project)\n",
    "\n",
    "if not os.path.exists(project_directory):\n",
    "    print(\"Making directory\")\n",
    "    os.makedirs(project_directory)\n",
    "else:\n",
    "    print(\"That project already exists\")"
   ]
  },
  {
   "cell_type": "markdown",
   "metadata": {},
   "source": [
    "### Example one: Get beach data from the api and group the locations\n",
    "\n",
    "1. Get the data with requests\n",
    "2. Group locations by lake/river\n",
    "3. Return the number of locations for each municipality in each region"
   ]
  },
  {
   "cell_type": "code",
   "execution_count": 2,
   "metadata": {},
   "outputs": [
    {
     "name": "stdout",
     "output_type": "stream",
     "text": [
      "List of water features with samples = ['Zurichsee' 'Aare' 'Aare|Nidau-Büren-Kanal' 'Lac Léman' 'Arve'\n",
      " 'Lago Maggiore' 'Thunersee' 'Untersee' 'Bielersee' 'Birs' 'Bodensee'\n",
      " 'Chriesbach' 'Neuenburgersee' 'Emme' 'Walensee' 'Glatt' 'Goldach'\n",
      " 'Greifensee' 'Grändelbach' 'Brienzersee' 'Inn' 'Jona' 'Katzensee'\n",
      " 'Dorfbach' 'La Thièle' 'Langeten' 'Rhône' 'Limmat' 'Linthkanal'\n",
      " 'Escherkanal' 'Lorze' 'Lötschebach' 'Murg' 'Ognonnaz' 'Pfaffnern' 'Reuss'\n",
      " 'Rhein' 'Schiffenensee' 'Schüss' 'Seez' 'Sempachsee' 'Sense' 'Sihlsee'\n",
      " 'Sihl' 'Sitter' 'Thur' 'Töss' 'Urnäsch' 'Quatre Cantons' 'Vorderrhein'\n",
      " 'Zugersee' 'Zulg']\n"
     ]
    }
   ],
   "source": [
    "# 1 get the url or location of the data\n",
    "location=\"https://mwshovel.pythonanywhere.com/api/list-of-beaches/swiss/\"\n",
    "\n",
    "# use requests.get()\n",
    "beaches = requests.get(location).json()\n",
    "\n",
    "# make a data frame with pandas\n",
    "df = pd.DataFrame(beaches)\n",
    "\n",
    "# use the groupby operator from pandas\n",
    "regions = df.groupby(['water_name', 'city']).location.count()\n",
    "\n",
    "# get a list of regions\n",
    "print(F\"List of water features with samples = {df.water_name.unique()}\")"
   ]
  },
  {
   "cell_type": "markdown",
   "metadata": {},
   "source": [
    "#### Now you can find the number of survey locations for each city on a lake or river"
   ]
  },
  {
   "cell_type": "code",
   "execution_count": 3,
   "metadata": {},
   "outputs": [
    {
     "data": {
      "text/plain": [
       "city\n",
       "Aarau            1\n",
       "Belp             1\n",
       "Bern             6\n",
       "Brugg            1\n",
       "Gebenstorf       1\n",
       "Köniz            1\n",
       "Muri bei Bern    1\n",
       "Rupperswil       1\n",
       "Solothurn        2\n",
       "Walperswil       1\n",
       "Name: location, dtype: int64"
      ]
     },
     "execution_count": 3,
     "metadata": {},
     "output_type": "execute_result"
    }
   ],
   "source": [
    "regions['Aare']"
   ]
  },
  {
   "cell_type": "markdown",
   "metadata": {},
   "source": [
    "### Example two: Get .csv data from a local file\n",
    "\n",
    "1. Get the data with pd.read_csv( \\<file location\\> )\n",
    "2. Return the number of species per family\n",
    "3. Get the data relevant to family Canidae\n",
    "4. Describe the family canidae with respect to the data"
   ]
  },
  {
   "cell_type": "code",
   "execution_count": 4,
   "metadata": {},
   "outputs": [
    {
     "data": {
      "text/plain": [
       "19"
      ]
     },
     "execution_count": 4,
     "metadata": {},
     "output_type": "execute_result"
    }
   ],
   "source": [
    "# 1 get the location '/the/path/to/file'\n",
    "location = \"species.csv\"\n",
    "species = pd.read_csv(location, low_memory=False)\n",
    "\n",
    "# 2 return the species per family\n",
    "families = species.groupby(['Family'])['Scientific Name'].count()\n",
    "families['Zosteraceae']"
   ]
  },
  {
   "cell_type": "code",
   "execution_count": 5,
   "metadata": {},
   "outputs": [
    {
     "name": "stdout",
     "output_type": "stream",
     "text": [
      "There are 200 records for canidae\n",
      "Canidae is in the category ['Mammal'] and family ['Carnivora']\n",
      "There are 20 different scientific names associated with Canidae\n",
      "The scientific names: ['Canis latrans' 'Canis lupus' 'Vulpes vulpes' 'Urocyon cinereoargenteus'\n",
      " 'Vulpes macrotis' 'Vulpes velox' 'Urocyon littoralis' 'Canis familiaris'\n",
      " 'Canis' 'Urocyon' 'Vulpes' 'Vulpes fulva' 'Vulpes macrotis arsipus'\n",
      " 'Alopex lagopus' 'Canis latrans lestes' 'Canis lupus youngi'\n",
      " 'Canis niger' 'Canis rufus' 'Vulpes vulpes necator'\n",
      " 'Vulpes vulpes cascadensis']\n"
     ]
    }
   ],
   "source": [
    "# 3 Get the data relevant to canidae\n",
    "canidae = species[species.Family == 'Canidae']\n",
    "\n",
    "# 4 Describe the family canidae with respect to the data\n",
    "print(F\"There are {len(canidae)} records for canidae\")\n",
    "print(F\"Canidae is in the category {canidae.Category.unique()} and family {canidae.Order.unique()}\")\n",
    "print(F\"There are {len(canidae['Scientific Name'].unique())} different scientific names associated with Canidae\")\n",
    "print(F\"The scientific names: {canidae['Scientific Name'].unique()}\")"
   ]
  }
 ],
 "metadata": {
  "kernelspec": {
   "display_name": "Python 3",
   "language": "python",
   "name": "python3"
  },
  "language_info": {
   "codemirror_mode": {
    "name": "ipython",
    "version": 3
   },
   "file_extension": ".py",
   "mimetype": "text/x-python",
   "name": "python",
   "nbconvert_exporter": "python",
   "pygments_lexer": "ipython3",
   "version": "3.8.3"
  }
 },
 "nbformat": 4,
 "nbformat_minor": 4
}
